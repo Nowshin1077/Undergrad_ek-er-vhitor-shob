{
  "nbformat": 4,
  "nbformat_minor": 0,
  "metadata": {
    "colab": {
      "provenance": []
    },
    "kernelspec": {
      "name": "python3",
      "display_name": "Python 3"
    },
    "language_info": {
      "name": "python"
    }
  },
  "cells": [
    {
      "cell_type": "markdown",
      "source": [
        "Perceptron Layer Algorithm\n"
      ],
      "metadata": {
        "id": "bbweKroUkAGA"
      }
    },
    {
      "cell_type": "code",
      "source": [
        "print('Single Layer Perceptron')\n"
      ],
      "metadata": {
        "colab": {
          "base_uri": "https://localhost:8080/"
        },
        "id": "U5qQiPaikFoH",
        "outputId": "6a50b8a5-90bc-47ea-c017-f2aec4020aa9"
      },
      "execution_count": null,
      "outputs": [
        {
          "output_type": "stream",
          "name": "stdout",
          "text": [
            "Single Layer Perceptron\n"
          ]
        }
      ]
    },
    {
      "cell_type": "code",
      "source": [
        "import numpy as np\n"
      ],
      "metadata": {
        "id": "4Uq105N_kTz-"
      },
      "execution_count": null,
      "outputs": []
    },
    {
      "cell_type": "code",
      "source": [
        "features = np.array([[0,0],\n",
        "                    [0,1],\n",
        "                    [1,0],\n",
        "                    [1,1]])"
      ],
      "metadata": {
        "id": "nKwuqqVTlF6N"
      },
      "execution_count": null,
      "outputs": []
    },
    {
      "cell_type": "code",
      "source": [
        "w = [0.3, -0.1]"
      ],
      "metadata": {
        "id": "8KMqJCGZlz7u"
      },
      "execution_count": null,
      "outputs": []
    },
    {
      "cell_type": "code",
      "source": [
        "threshold = 0.2"
      ],
      "metadata": {
        "id": "OEJJyUd3mB88"
      },
      "execution_count": null,
      "outputs": []
    },
    {
      "cell_type": "code",
      "source": [
        "learningRate = 0.1\n",
        "\n",
        "#epoch = 10\n",
        "epoch = 1"
      ],
      "metadata": {
        "id": "mhAHd8VKmKIk"
      },
      "execution_count": null,
      "outputs": []
    },
    {
      "cell_type": "code",
      "source": [
        "labels = [0,0,0,1]"
      ],
      "metadata": {
        "id": "HbdChEXimS3b"
      },
      "execution_count": null,
      "outputs": []
    },
    {
      "cell_type": "code",
      "source": [
        "for j in range(0,epoch):\n",
        "  #print('Epoch: ',epoch)\n",
        "\n",
        "  for i in range(0,features.shape[0]):\n",
        "    #print(\"Size: \",features.shape[0])\n",
        "\n",
        "    actual = labels[i]\n",
        "    instance = features[i]\n",
        "\n",
        "    #print(\"Feature: \",instance)\n",
        "    #print(\"Actual output: \", actual)\n",
        "\n",
        "    x1 = instance[0]\n",
        "    x2 = instance[1]\n",
        "    #print(\"X1: \",x1)\n",
        "    #print(\"X2: \",x2)\n",
        "    #print(\"W[0]: \", w[0])\n",
        "    #print(\"W[1]: \", w[1])\n",
        "\n",
        "    sum = x1* w[0] + x2* w[1]\n",
        "\n",
        "# Step function as activitation function\n",
        "    if(sum >= threshold):\n",
        "      predict = 1\n",
        "    else: \n",
        "      predict = 0\n",
        "\n",
        "      delta = actual - predict\n",
        "      print(\"Input Instance: \", instance,\"Prediction: \", predict, \"Delta: \", delta, \"Wherase actual was: \", actual)\n",
        "      \n",
        "      print(\"----------------------------------------------------------------------------------------------------\")\n",
        "\n",
        "\n",
        "\n",
        "\n"
      ],
      "metadata": {
        "colab": {
          "base_uri": "https://localhost:8080/"
        },
        "id": "-pZrYF6lpmZF",
        "outputId": "173ccba9-d9f7-4fda-ece5-8842eec7f126"
      },
      "execution_count": null,
      "outputs": [
        {
          "output_type": "stream",
          "name": "stdout",
          "text": [
            "W[0] 0.3\n",
            "W[1] -0.1\n",
            "W[0] 0.3\n",
            "W[1] -0.1\n",
            "W[0] 0.3\n",
            "W[1] -0.1\n",
            "W[0] 0.3\n",
            "W[1] -0.1\n"
          ]
        }
      ]
    }
  ]
}