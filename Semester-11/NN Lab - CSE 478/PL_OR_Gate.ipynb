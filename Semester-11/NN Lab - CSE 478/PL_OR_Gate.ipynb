{
  "nbformat": 4,
  "nbformat_minor": 0,
  "metadata": {
    "colab": {
      "provenance": []
    },
    "kernelspec": {
      "name": "python3",
      "display_name": "Python 3"
    },
    "language_info": {
      "name": "python"
    }
  },
  "cells": [
    {
      "cell_type": "code",
      "execution_count": null,
      "metadata": {
        "colab": {
          "base_uri": "https://localhost:8080/"
        },
        "id": "0a5YWQbF48t9",
        "outputId": "6332f1e1-1d8c-462b-fe4b-34c3be5abde6"
      },
      "outputs": [
        {
          "output_type": "stream",
          "name": "stdout",
          "text": [
            "OR(0, 1) = 1\n",
            "OR(1, 1) = 1\n",
            "OR(0, 0) = 0\n",
            "OR(1, 0) = 1\n"
          ]
        }
      ],
      "source": [
        "# importing Python library\n",
        "import numpy as np\n",
        "  \n",
        "# define Unit Step Function\n",
        "def unitStep(v):\n",
        "    if v >= 0:\n",
        "        return 1\n",
        "    else:\n",
        "        return 0\n",
        "  \n",
        "# design Perceptron Model\n",
        "def perceptronModel(x, w, b):\n",
        "    v = np.dot(w, x) + b\n",
        "    y = unitStep(v)\n",
        "    return y\n",
        "  \n",
        "# OR Logic Function\n",
        "# w1 = 1, w2 = 1, b = -0.5\n",
        "def OR_logicFunction(x):\n",
        "    w = np.array([1, 1])\n",
        "    b = -0.5\n",
        "    return perceptronModel(x, w, b)\n",
        "  \n",
        "# testing the Perceptron Model\n",
        "test1 = np.array([0, 1])\n",
        "test2 = np.array([1, 1])\n",
        "test3 = np.array([0, 0])\n",
        "test4 = np.array([1, 0])\n",
        "  \n",
        "print(\"OR({}, {}) = {}\".format(0, 1, OR_logicFunction(test1)))\n",
        "print(\"OR({}, {}) = {}\".format(1, 1, OR_logicFunction(test2)))\n",
        "print(\"OR({}, {}) = {}\".format(0, 0, OR_logicFunction(test3)))\n",
        "print(\"OR({}, {}) = {}\".format(1, 0, OR_logicFunction(test4)))"
      ]
    }
  ]
}